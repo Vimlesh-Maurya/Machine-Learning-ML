{
  "nbformat": 4,
  "nbformat_minor": 0,
  "metadata": {
    "colab": {
      "provenance": [],
      "authorship_tag": "ABX9TyMtPpJVu8SWGle2oH0+bMzw",
      "include_colab_link": true
    },
    "kernelspec": {
      "name": "python3",
      "display_name": "Python 3"
    },
    "language_info": {
      "name": "python"
    }
  },
  "cells": [
    {
      "cell_type": "markdown",
      "metadata": {
        "id": "view-in-github",
        "colab_type": "text"
      },
      "source": [
        "<a href=\"https://colab.research.google.com/github/Vimlesh-Maurya/Machine-Learning-ML/blob/main/z_test.ipynb\" target=\"_parent\"><img src=\"https://colab.research.google.com/assets/colab-badge.svg\" alt=\"Open In Colab\"/></a>"
      ]
    },
    {
      "cell_type": "code",
      "execution_count": 2,
      "metadata": {
        "id": "JpiEatLW3THA"
      },
      "outputs": [],
      "source": [
        "import pandas as pd\n",
        "import numpy as np\n",
        "import matplotlib.pyplot as plt\n",
        "import seaborn as sns\n",
        "from scipy.stats import norm"
      ]
    },
    {
      "cell_type": "code",
      "source": [
        "norm.ppf(0.975)"
      ],
      "metadata": {
        "colab": {
          "base_uri": "https://localhost:8080/"
        },
        "id": "kOpysrQZ3loq",
        "outputId": "ce42d6af-fc7d-4a01-caaf-1bb9bcf56ce5"
      },
      "execution_count": 7,
      "outputs": [
        {
          "output_type": "execute_result",
          "data": {
            "text/plain": [
              "1.959963984540054"
            ]
          },
          "metadata": {},
          "execution_count": 7
        }
      ]
    },
    {
      "cell_type": "code",
      "source": [
        "norm.ppf(0.025)"
      ],
      "metadata": {
        "colab": {
          "base_uri": "https://localhost:8080/"
        },
        "id": "4hnsfPNo4N3Y",
        "outputId": "3b0ef9ac-af84-4a6b-dd67-2873164002e3"
      },
      "execution_count": 5,
      "outputs": [
        {
          "output_type": "execute_result",
          "data": {
            "text/plain": [
              "-1.9599639845400545"
            ]
          },
          "metadata": {},
          "execution_count": 5
        }
      ]
    },
    {
      "cell_type": "code",
      "source": [
        "n = 36\n",
        "sigma = 3.9\n",
        "mu = 168\n",
        "x_bar = 169.5\n",
        "z = (x_bar - mu)/(sigma/np.sqrt(n))\n",
        "z"
      ],
      "metadata": {
        "colab": {
          "base_uri": "https://localhost:8080/"
        },
        "id": "bFF8ly_b4nnv",
        "outputId": "4dcce8bf-42ad-4f9b-ad47-d7eef5f3bf20"
      },
      "execution_count": 10,
      "outputs": [
        {
          "output_type": "execute_result",
          "data": {
            "text/plain": [
              "2.3076923076923075"
            ]
          },
          "metadata": {},
          "execution_count": 10
        }
      ]
    },
    {
      "cell_type": "code",
      "source": [
        "```The student hostel office at IIT Madras estimates that each student uses more than 3.5 buckets of water per day.\n",
        "\n",
        "In order to verify this claim, the college trustees decide to monitor the water consuption over the next 45 days, and it is found that on an average, 3.72 buckets of water is consumed by a student, per day.\n",
        "\n",
        "Assume that the population standard deviation is 0.7 buckets. What is the critical sample mean, assuming a critical z-value of 1.28?\n",
        "\n",
        "Note: The critical sample mean is defined as the mean value for which the z-score is equal to the critical value. Also, round off the final answer to three decimal places.```"
      ],
      "metadata": {
        "id": "hy_ZVRaf48Xz"
      },
      "execution_count": null,
      "outputs": []
    },
    {
      "cell_type": "code",
      "source": [
        "mu = 3.5\n",
        "sigma = 0.7\n",
        "n = 45\n",
        "z = 1.28\n",
        "x_bar = 3.72"
      ],
      "metadata": {
        "id": "R2H7DGGi8Qdj"
      },
      "execution_count": 11,
      "outputs": []
    },
    {
      "cell_type": "code",
      "source": [
        "z = (x_bar - mu)/(sigma/np.sqrt(n))\n",
        "z.round(3)"
      ],
      "metadata": {
        "colab": {
          "base_uri": "https://localhost:8080/"
        },
        "id": "bC7lpivO8Zlf",
        "outputId": "c89a4e24-fc18-4af3-aaa1-265add6e1ed5"
      },
      "execution_count": 13,
      "outputs": [
        {
          "output_type": "execute_result",
          "data": {
            "text/plain": [
              "2.108"
            ]
          },
          "metadata": {},
          "execution_count": 13
        }
      ]
    },
    {
      "cell_type": "code",
      "source": [
        "# What is the critical sample mean, assuming a critical z-value of 1.28?\n",
        "\n",
        "\n"
      ],
      "metadata": {
        "id": "dyalZyBe9RXJ"
      },
      "execution_count": 14,
      "outputs": []
    },
    {
      "cell_type": "code",
      "source": [
        "mu = 150\n",
        "sd = 8.5\n",
        "x_bar = 155\n",
        "n = 10\n",
        "alpha = 0.05\n",
        "z = (x_bar - mu)/(sd/np.sqrt(n))\n",
        "z"
      ],
      "metadata": {
        "colab": {
          "base_uri": "https://localhost:8080/"
        },
        "id": "inFFSZMH-kZj",
        "outputId": "2b824802-2c77-4423-f676-492097ddc3e1"
      },
      "execution_count": 16,
      "outputs": [
        {
          "output_type": "execute_result",
          "data": {
            "text/plain": [
              "1.8601633295108115"
            ]
          },
          "metadata": {},
          "execution_count": 16
        }
      ]
    },
    {
      "cell_type": "code",
      "source": [
        "pvalue = 1-norm.cdf(z)\n",
        "pvalue"
      ],
      "metadata": {
        "colab": {
          "base_uri": "https://localhost:8080/"
        },
        "id": "60ADLgI7_IB-",
        "outputId": "47894918-d900-458a-acc9-f44e173948f8"
      },
      "execution_count": 21,
      "outputs": [
        {
          "output_type": "execute_result",
          "data": {
            "text/plain": [
              "0.031431210741779014"
            ]
          },
          "metadata": {},
          "execution_count": 21
        }
      ]
    },
    {
      "cell_type": "code",
      "source": [
        "norm.ppf(pvalue)"
      ],
      "metadata": {
        "colab": {
          "base_uri": "https://localhost:8080/"
        },
        "id": "7IEkUxM4CQj8",
        "outputId": "3c0858e3-4b6c-4818-e859-f17fa1b6a1b7"
      },
      "execution_count": 22,
      "outputs": [
        {
          "output_type": "execute_result",
          "data": {
            "text/plain": [
              "-1.8601633295108115"
            ]
          },
          "metadata": {},
          "execution_count": 22
        }
      ]
    },
    {
      "cell_type": "code",
      "source": [
        "mu = 3\n",
        "x_bar = 3.5\n",
        "n = 25\n",
        "sd = 0.8\n",
        "alpha = 0.05\n",
        "z = (x_bar - mu)/(sd/np.sqrt(n))\n",
        "z"
      ],
      "metadata": {
        "colab": {
          "base_uri": "https://localhost:8080/"
        },
        "id": "Ww2jEIAKCsXp",
        "outputId": "bef8246c-a4cb-4907-fa99-bdfb63220f93"
      },
      "execution_count": 23,
      "outputs": [
        {
          "output_type": "execute_result",
          "data": {
            "text/plain": [
              "3.125"
            ]
          },
          "metadata": {},
          "execution_count": 23
        }
      ]
    },
    {
      "cell_type": "code",
      "source": [
        "norm.ppf(0.975)"
      ],
      "metadata": {
        "colab": {
          "base_uri": "https://localhost:8080/"
        },
        "id": "vRYDtrVvDFaw",
        "outputId": "90413281-2d75-4e3b-9da6-dd044c30ce08"
      },
      "execution_count": 24,
      "outputs": [
        {
          "output_type": "execute_result",
          "data": {
            "text/plain": [
              "1.959963984540054"
            ]
          },
          "metadata": {},
          "execution_count": 24
        }
      ]
    },
    {
      "cell_type": "code",
      "source": [
        "pvalue = 1- norm.cdf(z)\n",
        "pvalue"
      ],
      "metadata": {
        "colab": {
          "base_uri": "https://localhost:8080/"
        },
        "id": "iPK75WFKDXMx",
        "outputId": "77be8ffa-7534-400a-87c7-f972f04d3daa"
      },
      "execution_count": 26,
      "outputs": [
        {
          "output_type": "execute_result",
          "data": {
            "text/plain": [
              "0.0008890252991083925"
            ]
          },
          "metadata": {},
          "execution_count": 26
        }
      ]
    },
    {
      "cell_type": "code",
      "source": [
        "norm.ppf(0.09)"
      ],
      "metadata": {
        "colab": {
          "base_uri": "https://localhost:8080/"
        },
        "id": "xazpwIUuH8YZ",
        "outputId": "e6a00501-b20b-455a-9ecb-a73bac090b0a"
      },
      "execution_count": 27,
      "outputs": [
        {
          "output_type": "execute_result",
          "data": {
            "text/plain": [
              "-1.3407550336902165"
            ]
          },
          "metadata": {},
          "execution_count": 27
        }
      ]
    },
    {
      "cell_type": "code",
      "source": [
        "mu = 3.5\n",
        "n = 45\n",
        "x_bar = 3.72\n",
        "sd = 0.7\n",
        "z = 1.28\n",
        "z1 = (x_bar - mu)/(sd/np.sqrt(n))\n",
        "z1"
      ],
      "metadata": {
        "colab": {
          "base_uri": "https://localhost:8080/"
        },
        "id": "0Xqo2SjDKh03",
        "outputId": "3b1431ae-afaf-4c2e-cd7f-c3f08b30a264"
      },
      "execution_count": 28,
      "outputs": [
        {
          "output_type": "execute_result",
          "data": {
            "text/plain": [
              "2.1082926644998037"
            ]
          },
          "metadata": {},
          "execution_count": 28
        }
      ]
    },
    {
      "cell_type": "code",
      "source": [
        "x_bar = z * (sd/np.sqrt(n)) + mu\n",
        "x_bar"
      ],
      "metadata": {
        "colab": {
          "base_uri": "https://localhost:8080/"
        },
        "id": "sQUDDeSyLfjE",
        "outputId": "45018639-38e6-48fd-c241-a34ea931e452"
      },
      "execution_count": 29,
      "outputs": [
        {
          "output_type": "execute_result",
          "data": {
            "text/plain": [
              "3.6335677938559874"
            ]
          },
          "metadata": {},
          "execution_count": 29
        }
      ]
    }
  ]
}