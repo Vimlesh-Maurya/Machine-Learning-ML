{
  "nbformat": 4,
  "nbformat_minor": 0,
  "metadata": {
    "colab": {
      "provenance": [],
      "authorship_tag": "ABX9TyOKzhKZJAXSPOUNV8vsnXBL",
      "include_colab_link": true
    },
    "kernelspec": {
      "name": "python3",
      "display_name": "Python 3"
    },
    "language_info": {
      "name": "python"
    }
  },
  "cells": [
    {
      "cell_type": "markdown",
      "metadata": {
        "id": "view-in-github",
        "colab_type": "text"
      },
      "source": [
        "<a href=\"https://colab.research.google.com/github/Vimlesh-Maurya/Machine-Learning-ML/blob/main/Feature_engineering.ipynb\" target=\"_parent\"><img src=\"https://colab.research.google.com/assets/colab-badge.svg\" alt=\"Open In Colab\"/></a>"
      ]
    },
    {
      "cell_type": "code",
      "execution_count": 3,
      "metadata": {
        "id": "DAAvuIQ5x8Ya"
      },
      "outputs": [],
      "source": [
        "# import pandas, numpy, seabord, matplotlib and chi2_contingency\n",
        "import numpy as np\n",
        "import pandas as pd\n",
        "import matplotlib.pyplot as plt\n",
        "import seaborn as sns\n",
        "from scipy.stats import chi2_contingency\n"
      ]
    },
    {
      "cell_type": "code",
      "source": [
        "!gdown \"\""
      ],
      "metadata": {
        "id": "4j_0wQWE1tXD"
      },
      "execution_count": null,
      "outputs": []
    }
  ]
}